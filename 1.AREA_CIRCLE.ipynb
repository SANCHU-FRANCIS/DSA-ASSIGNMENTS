{
 "cells": [
  {
   "cell_type": "code",
   "execution_count": 1,
   "id": "4803b73e",
   "metadata": {},
   "outputs": [
    {
     "name": "stdout",
     "output_type": "stream",
     "text": [
      " enter the radius :3\n",
      " Area of circle is :  28.259999999999998\n"
     ]
    }
   ],
   "source": [
    "r=float(input(\" enter the radius :\"))\n",
    "pi=3.14\n",
    "c=pi*r*r\n",
    "print(\" Area of circle is : \" , c )\n"
   ]
  },
  {
   "cell_type": "code",
   "execution_count": 2,
   "id": "20453ee2",
   "metadata": {},
   "outputs": [
    {
     "name": "stdout",
     "output_type": "stream",
     "text": [
      " enter the radius :3\n"
     ]
    }
   ],
   "source": [
    "r=float(input(\" enter the radius :\"))\n",
    "\n"
   ]
  },
  {
   "cell_type": "code",
   "execution_count": null,
   "id": "861f6103",
   "metadata": {},
   "outputs": [],
   "source": [
    "r=float(input(\" enter the radius :\"))\n",
    "pi=3.14\n",
    "c=pi*r*r\n",
    "print(\" Area of circle is : \" , c )"
   ]
  },
  {
   "cell_type": "code",
   "execution_count": null,
   "id": "863403c4",
   "metadata": {},
   "outputs": [],
   "source": []
  }
 ],
 "metadata": {
  "kernelspec": {
   "display_name": "Python 3 (ipykernel)",
   "language": "python",
   "name": "python3"
  },
  "language_info": {
   "codemirror_mode": {
    "name": "ipython",
    "version": 3
   },
   "file_extension": ".py",
   "mimetype": "text/x-python",
   "name": "python",
   "nbconvert_exporter": "python",
   "pygments_lexer": "ipython3",
   "version": "3.11.5"
  }
 },
 "nbformat": 4,
 "nbformat_minor": 5
}
