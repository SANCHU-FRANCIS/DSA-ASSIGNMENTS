{
 "cells": [
  {
   "cell_type": "code",
   "execution_count": 9,
   "id": "8e28b5d8",
   "metadata": {},
   "outputs": [
    {
     "name": "stdout",
     "output_type": "stream",
     "text": [
      "[3, 10, 12, 47] is the new sorted list\n",
      "47  is the largest number \n"
     ]
    }
   ],
   "source": [
    "mylist=[12,3,47,10]\n",
    "mylist.sort()\n",
    "print(mylist, \"is the new sorted list\")\n",
    "print(mylist[-1] ,\" is the largest number \")\n"
   ]
  },
  {
   "cell_type": "code",
   "execution_count": 4,
   "id": "a7a27bff",
   "metadata": {},
   "outputs": [],
   "source": [
    "mylist=[12,3,47,10]"
   ]
  },
  {
   "cell_type": "code",
   "execution_count": 5,
   "id": "e7ce6c4f",
   "metadata": {},
   "outputs": [],
   "source": [
    "mylist=[12,3,47,10]\n",
    "mylist.sort()"
   ]
  },
  {
   "cell_type": "code",
   "execution_count": 7,
   "id": "1a63e6f6",
   "metadata": {},
   "outputs": [
    {
     "name": "stdout",
     "output_type": "stream",
     "text": [
      "[3, 10, 12, 47]\n"
     ]
    }
   ],
   "source": [
    "mylist=[12,3,47,10]\n",
    "mylist.sort()\n",
    "print(mylist)"
   ]
  },
  {
   "cell_type": "code",
   "execution_count": 8,
   "id": "20240b1c",
   "metadata": {},
   "outputs": [
    {
     "name": "stdout",
     "output_type": "stream",
     "text": [
      "47  is the largest number \n"
     ]
    }
   ],
   "source": [
    "mylist=[12,3,47,10]\n",
    "mylist.sort()\n",
    "print(mylist[-1] ,\" is the largest number \")"
   ]
  },
  {
   "cell_type": "code",
   "execution_count": null,
   "id": "4bc6e062",
   "metadata": {},
   "outputs": [],
   "source": []
  }
 ],
 "metadata": {
  "kernelspec": {
   "display_name": "Python 3 (ipykernel)",
   "language": "python",
   "name": "python3"
  },
  "language_info": {
   "codemirror_mode": {
    "name": "ipython",
    "version": 3
   },
   "file_extension": ".py",
   "mimetype": "text/x-python",
   "name": "python",
   "nbconvert_exporter": "python",
   "pygments_lexer": "ipython3",
   "version": "3.11.5"
  }
 },
 "nbformat": 4,
 "nbformat_minor": 5
}
