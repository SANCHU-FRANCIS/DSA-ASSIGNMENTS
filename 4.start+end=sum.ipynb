{
 "cells": [
  {
   "cell_type": "code",
   "execution_count": 1,
   "id": "0b2f75a2",
   "metadata": {},
   "outputs": [
    {
     "name": "stdout",
     "output_type": "stream",
     "text": [
      "Current Number :  1 Previous Number :  0 Sum :  1\n",
      "Current Number :  2 Previous Number :  1 Sum :  3\n",
      "Current Number :  3 Previous Number :  2 Sum :  5\n",
      "Current Number :  4 Previous Number :  3 Sum :  7\n",
      "Current Number :  5 Previous Number :  4 Sum :  9\n",
      "Current Number :  6 Previous Number :  5 Sum :  11\n",
      "Current Number :  7 Previous Number :  6 Sum :  13\n",
      "Current Number :  8 Previous Number :  7 Sum :  15\n",
      "Current Number :  9 Previous Number :  8 Sum :  17\n",
      "Current Number :  10 Previous Number :  9 Sum :  19\n"
     ]
    }
   ],
   "source": [
    "prev=0\n",
    "for i in range(10):\n",
    "    i=i+1\n",
    "    sum=prev+i\n",
    "    print(\"Current Number : \",i,\"Previous Number : \",prev,\"Sum : \",sum)\n",
    "    prev=i\n"
   ]
  },
  {
   "cell_type": "code",
   "execution_count": 3,
   "id": "090270d7",
   "metadata": {},
   "outputs": [
    {
     "name": "stdout",
     "output_type": "stream",
     "text": [
      "0 i now\n",
      "1 i+1 now\n",
      "1 i now\n",
      "2 i+1 now\n",
      "2 i now\n",
      "3 i+1 now\n",
      "3 i now\n",
      "4 i+1 now\n",
      "4 i now\n",
      "5 i+1 now\n",
      "5 i now\n",
      "6 i+1 now\n",
      "6 i now\n",
      "7 i+1 now\n",
      "7 i now\n",
      "8 i+1 now\n",
      "8 i now\n",
      "9 i+1 now\n",
      "9 i now\n",
      "10 i+1 now\n"
     ]
    }
   ],
   "source": [
    "prev=0\n",
    "for i in range(10):\n",
    "    print(i,\"i now\")\n",
    "    i=i+1\n",
    "    print(i,\"i+1 now\")"
   ]
  },
  {
   "cell_type": "code",
   "execution_count": 4,
   "id": "7651ba48",
   "metadata": {},
   "outputs": [
    {
     "name": "stdout",
     "output_type": "stream",
     "text": [
      "prev now = 0\n",
      "sum now = 1\n",
      "prev now = 0\n",
      "sum now = 2\n",
      "prev now = 0\n",
      "sum now = 3\n",
      "prev now = 0\n",
      "sum now = 4\n",
      "prev now = 0\n",
      "sum now = 5\n",
      "prev now = 0\n",
      "sum now = 6\n",
      "prev now = 0\n",
      "sum now = 7\n",
      "prev now = 0\n",
      "sum now = 8\n",
      "prev now = 0\n",
      "sum now = 9\n",
      "prev now = 0\n",
      "sum now = 10\n"
     ]
    }
   ],
   "source": [
    "prev=0\n",
    "for i in range(10):\n",
    "    i=i+1\n",
    "    sum=prev+i\n",
    "    print(\"prev now =\",prev)\n",
    "    print(\"sum now =\",sum)"
   ]
  },
  {
   "cell_type": "code",
   "execution_count": 5,
   "id": "e1ed3a7e",
   "metadata": {},
   "outputs": [
    {
     "name": "stdout",
     "output_type": "stream",
     "text": [
      "prev now = 0\n",
      "sum now = 1\n",
      "Current Number :  1 Previous Number :  0 Sum :  1\n",
      "prev later = 1\n",
      "prev now = 1\n",
      "sum now = 3\n",
      "Current Number :  2 Previous Number :  1 Sum :  3\n",
      "prev later = 2\n",
      "prev now = 2\n",
      "sum now = 5\n",
      "Current Number :  3 Previous Number :  2 Sum :  5\n",
      "prev later = 3\n",
      "prev now = 3\n",
      "sum now = 7\n",
      "Current Number :  4 Previous Number :  3 Sum :  7\n",
      "prev later = 4\n",
      "prev now = 4\n",
      "sum now = 9\n",
      "Current Number :  5 Previous Number :  4 Sum :  9\n",
      "prev later = 5\n",
      "prev now = 5\n",
      "sum now = 11\n",
      "Current Number :  6 Previous Number :  5 Sum :  11\n",
      "prev later = 6\n",
      "prev now = 6\n",
      "sum now = 13\n",
      "Current Number :  7 Previous Number :  6 Sum :  13\n",
      "prev later = 7\n",
      "prev now = 7\n",
      "sum now = 15\n",
      "Current Number :  8 Previous Number :  7 Sum :  15\n",
      "prev later = 8\n",
      "prev now = 8\n",
      "sum now = 17\n",
      "Current Number :  9 Previous Number :  8 Sum :  17\n",
      "prev later = 9\n",
      "prev now = 9\n",
      "sum now = 19\n",
      "Current Number :  10 Previous Number :  9 Sum :  19\n",
      "prev later = 10\n"
     ]
    }
   ],
   "source": [
    "prev=0\n",
    "for i in range(10):\n",
    "    i=i+1\n",
    "    sum=prev+i\n",
    "    print(\"prev now =\",prev)\n",
    "    print(\"sum now =\",sum)\n",
    "    print(\"Current Number : \",i,\"Previous Number : \",prev,\"Sum : \",sum)\n",
    "    prev=i\n",
    "    print(\"prev later =\",prev)"
   ]
  },
  {
   "cell_type": "code",
   "execution_count": 6,
   "id": "f38ce697",
   "metadata": {},
   "outputs": [
    {
     "name": "stdout",
     "output_type": "stream",
     "text": [
      "Current Number :  1 Previous Number :  0 Sum :  1\n",
      "Current Number :  2 Previous Number :  1 Sum :  3\n",
      "Current Number :  3 Previous Number :  2 Sum :  5\n",
      "Current Number :  4 Previous Number :  3 Sum :  7\n",
      "Current Number :  5 Previous Number :  4 Sum :  9\n",
      "Current Number :  6 Previous Number :  5 Sum :  11\n",
      "Current Number :  7 Previous Number :  6 Sum :  13\n",
      "Current Number :  8 Previous Number :  7 Sum :  15\n",
      "Current Number :  9 Previous Number :  8 Sum :  17\n",
      "Current Number :  10 Previous Number :  9 Sum :  19\n"
     ]
    }
   ],
   "source": [
    "prev=0\n",
    "for i in range(10):\n",
    "    i=i+1\n",
    "    sum=prev+i\n",
    "    print(\"Current Number : \",i,\"Previous Number : \",prev,\"Sum : \",sum)\n",
    "    prev=i"
   ]
  },
  {
   "cell_type": "code",
   "execution_count": null,
   "id": "d2dc9880",
   "metadata": {},
   "outputs": [],
   "source": []
  }
 ],
 "metadata": {
  "kernelspec": {
   "display_name": "Python 3 (ipykernel)",
   "language": "python",
   "name": "python3"
  },
  "language_info": {
   "codemirror_mode": {
    "name": "ipython",
    "version": 3
   },
   "file_extension": ".py",
   "mimetype": "text/x-python",
   "name": "python",
   "nbconvert_exporter": "python",
   "pygments_lexer": "ipython3",
   "version": "3.11.5"
  }
 },
 "nbformat": 4,
 "nbformat_minor": 5
}
