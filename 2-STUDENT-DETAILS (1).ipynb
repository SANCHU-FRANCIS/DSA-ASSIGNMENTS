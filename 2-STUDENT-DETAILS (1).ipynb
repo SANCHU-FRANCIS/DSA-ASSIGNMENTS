{
 "cells": [
  {
   "cell_type": "code",
   "execution_count": 1,
   "id": "3c0f28d3",
   "metadata": {},
   "outputs": [
    {
     "name": "stdout",
     "output_type": "stream",
     "text": [
      "Enter the name  Anisha\n",
      "Enter the roll number 21\n",
      "Enter the mark:78\n",
      " \n",
      " Name :  Anisha\n",
      " \n",
      " Roll No :  21\n",
      " \n",
      " Mark :  78\n"
     ]
    }
   ],
   "source": [
    "NAME=input(\"Enter the name  \")\n",
    "ROLL_NO =input(\"Enter the roll number \")\n",
    "MARKS =input(\"Enter the mark:\")\n",
    "print(\" \\n Name : \", NAME)\n",
    "print(\" \\n Roll No : \" , ROLL_NO)\n",
    "print(\" \\n Mark : \" , MARKS)\n"
   ]
  },
  {
   "cell_type": "code",
   "execution_count": 2,
   "id": "e80624d7",
   "metadata": {},
   "outputs": [
    {
     "name": "stdout",
     "output_type": "stream",
     "text": [
      "Enter the name  Anisha\n"
     ]
    }
   ],
   "source": [
    "NAME=input(\"Enter the name  \")"
   ]
  },
  {
   "cell_type": "code",
   "execution_count": 3,
   "id": "aca8d3be",
   "metadata": {},
   "outputs": [
    {
     "name": "stdout",
     "output_type": "stream",
     "text": [
      "Enter the name  Sanchu\n",
      "Enter the roll number 21\n"
     ]
    }
   ],
   "source": [
    "NAME=input(\"Enter the name  \")\n",
    "ROLL_NO =input(\"Enter the roll number \")"
   ]
  },
  {
   "cell_type": "code",
   "execution_count": 4,
   "id": "a5e16289",
   "metadata": {},
   "outputs": [
    {
     "name": "stdout",
     "output_type": "stream",
     "text": [
      "Enter the name  Sanchu\n",
      "Enter the roll number 21\n",
      "Enter the mark:78\n"
     ]
    }
   ],
   "source": [
    "NAME=input(\"Enter the name  \")\n",
    "ROLL_NO =input(\"Enter the roll number \")\n",
    "MARKS =input(\"Enter the mark:\")"
   ]
  },
  {
   "cell_type": "code",
   "execution_count": 5,
   "id": "c2293721",
   "metadata": {},
   "outputs": [
    {
     "name": "stdout",
     "output_type": "stream",
     "text": [
      "Enter the name  Sanchu\n",
      "Enter the roll number 21\n",
      "Enter the mark:78\n",
      " \n",
      " Name :  Sanchu\n",
      " \n",
      " Roll No :  21\n",
      " \n",
      " Mark :  78\n"
     ]
    }
   ],
   "source": [
    "NAME=input(\"Enter the name  \")\n",
    "ROLL_NO =input(\"Enter the roll number \")\n",
    "MARKS =input(\"Enter the mark:\")\n",
    "print(\" \\n Name : \", NAME)\n",
    "print(\" \\n Roll No : \" , ROLL_NO)\n",
    "print(\" \\n Mark : \" , MARKS)"
   ]
  },
  {
   "cell_type": "code",
   "execution_count": null,
   "id": "82df04ef",
   "metadata": {},
   "outputs": [],
   "source": []
  }
 ],
 "metadata": {
  "kernelspec": {
   "display_name": "Python 3 (ipykernel)",
   "language": "python",
   "name": "python3"
  },
  "language_info": {
   "codemirror_mode": {
    "name": "ipython",
    "version": 3
   },
   "file_extension": ".py",
   "mimetype": "text/x-python",
   "name": "python",
   "nbconvert_exporter": "python",
   "pygments_lexer": "ipython3",
   "version": "3.11.5"
  }
 },
 "nbformat": 4,
 "nbformat_minor": 5
}
